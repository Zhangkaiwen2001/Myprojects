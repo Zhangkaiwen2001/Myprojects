{
 "cells": [
  {
   "cell_type": "markdown",
   "metadata": {},
   "source": [
    "# 多层感知器的简洁实现"
   ]
  },
  {
   "cell_type": "code",
   "execution_count": 1,
   "metadata": {},
   "outputs": [],
   "source": [
    "import torch\n",
    "from torch import nn\n",
    "from torch.nn import init\n",
    "import numpy as np\n",
    "import sys\n",
    "sys.path.append(\"..\")\n",
    "import d2lzh_pytorch as d2l"
   ]
  },
  {
   "cell_type": "markdown",
   "metadata": {},
   "source": [
    "#### #### 定义网络，网络参数初始化"
   ]
  },
  {
   "cell_type": "code",
   "execution_count": 2,
   "metadata": {},
   "outputs": [],
   "source": [
    "\n",
    "#  每张图像大小 28 x 28 =784\n",
    "#  一共10类，输出等于类别数量\n",
    "#  中间的隐层 256 个\n",
    "# 可以选择不同的激活函数\n",
    "\n",
    "\n",
    "num_inputs, num_outputs, num_hiddens = 784, 10, 256\n",
    "\n",
    "net = nn.Sequential(\n",
    "        d2l.FlattenLayer(),\n",
    "        nn.Linear(num_inputs, num_hiddens),\n",
    "#        nn.Sigmoid(),   \n",
    "#        nn.Tanh(),\n",
    "        nn.ReLU(),\n",
    "        nn.Linear(num_hiddens, num_outputs),\n",
    "        )\n",
    "\n",
    "for params in net.parameters():\n",
    "    init.normal_(params, mean=0, std=0.01)"
   ]
  },
  {
   "cell_type": "code",
   "execution_count": 3,
   "metadata": {},
   "outputs": [],
   "source": [
    "# 增加层数\n",
    "\n",
    "#num_inputs, num_outputs, num_hiddens = 784, 10, 256\n",
    "\n",
    "#net = nn.Sequential(\n",
    "#        d2l.FlattenLayer(),\n",
    "#        nn.Linear(num_inputs, num_hiddens),\n",
    "#        nn.ReLU(),\n",
    "#        nn.Linear(num_hiddens, num_hiddens*2),\n",
    "#        nn.ReLU(),\n",
    "#        nn.Linear(num_hiddens*2, num_hiddens),\n",
    "#        nn.ReLU(),\n",
    "#        nn.Linear(num_hiddens, num_outputs),\n",
    "#        )\n"
   ]
  },
  {
   "cell_type": "markdown",
   "metadata": {},
   "source": [
    "#### #### 设置数据"
   ]
  },
  {
   "cell_type": "code",
   "execution_count": 4,
   "metadata": {},
   "outputs": [],
   "source": [
    "\n",
    "batch_size = 256\n",
    "\n",
    "train_iter, test_iter = d2l.load_data_fashion_mnist(batch_size)"
   ]
  },
  {
   "cell_type": "markdown",
   "metadata": {},
   "source": [
    "#### #### 设置参数"
   ]
  },
  {
   "cell_type": "code",
   "execution_count": 5,
   "metadata": {},
   "outputs": [],
   "source": [
    "#损失函数\n",
    "loss = torch.nn.CrossEntropyLoss()\n",
    "\n",
    "#此处修改学习率\n",
    "#lr=0.3\n",
    "#lr=0.5\n",
    "lr=0.7\n",
    "\n",
    "\n",
    "optimizer = torch.optim.SGD(net.parameters(), lr)\n",
    "\n"
   ]
  },
  {
   "cell_type": "markdown",
   "metadata": {},
   "source": [
    "#### #### 设置迭代次数，开始训练"
   ]
  },
  {
   "cell_type": "code",
   "execution_count": 6,
   "metadata": {},
   "outputs": [
    {
     "name": "stdout",
     "output_type": "stream",
     "text": [
      "epoch 1, loss 0.0045, train acc 0.591, test acc 0.709\n",
      "epoch 2, loss 0.0028, train acc 0.728, test acc 0.723\n",
      "epoch 3, loss 0.0021, train acc 0.793, test acc 0.750\n",
      "epoch 4, loss 0.0019, train acc 0.822, test acc 0.827\n",
      "epoch 5, loss 0.0017, train acc 0.836, test acc 0.831\n"
     ]
    }
   ],
   "source": [
    "#此处修改迭代次数\n",
    "num_epochs = 5\n",
    "\n",
    "d2l.train_ch3(net, train_iter, test_iter, loss, num_epochs,\n",
    "batch_size, None, None, optimizer)"
   ]
  },
  {
   "cell_type": "code",
   "execution_count": null,
   "metadata": {},
   "outputs": [],
   "source": []
  }
 ],
 "metadata": {
  "kernelspec": {
   "display_name": "Python 3",
   "language": "python",
   "name": "python3"
  },
  "language_info": {
   "codemirror_mode": {
    "name": "ipython",
    "version": 3
   },
   "file_extension": ".py",
   "mimetype": "text/x-python",
   "name": "python",
   "nbconvert_exporter": "python",
   "pygments_lexer": "ipython3",
   "version": "3.8.3"
  }
 },
 "nbformat": 4,
 "nbformat_minor": 2
}
