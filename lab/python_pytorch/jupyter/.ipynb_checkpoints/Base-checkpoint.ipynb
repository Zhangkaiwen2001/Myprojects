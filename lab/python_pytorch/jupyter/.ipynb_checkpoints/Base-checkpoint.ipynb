{
 "cells": [
  {
   "cell_type": "code",
   "execution_count": 1,
   "metadata": {},
   "outputs": [
    {
     "name": "stdout",
     "output_type": "stream",
     "text": [
      "1:  True\n",
      "2:  cuda:0\n",
      "3:  0\n",
      "4:  GeForce RTX 2060\n",
      "5:  tensor([[0.5631, 0.5998, 0.9086],\n",
      "        [0.4077, 0.5523, 0.8634],\n",
      "        [0.7324, 0.0249, 0.0951]], device='cuda:0')\n"
     ]
    }
   ],
   "source": [
    "import torch\n",
    "\n",
    "print('1: ', torch.cuda.is_available())  # 验证电脑是否存在GPU    \n",
    "\n",
    "ngpu = 1\n",
    "device = torch.device(\"cuda:0\" if (torch.cuda.is_available() and ngpu > 0) else \"cpu\")  # 选择运行设备\n",
    "\n",
    "print('2: ', device)  # if条件满足，输出cuda:0; 不满足,输出 cpu   \n",
    "print('3: ', torch.cuda.current_device())  # 输出当前显卡的序号                   \n",
    "print('4: ', torch.cuda.get_device_name())  # 获取电脑配备显卡的型号名称。括号内\n",
    "print('5: ', torch.rand(3, 3).cuda())   # 将数据放到GPU上， 等同于  print(torch.rand(3,3).to(device))"
   ]
  },
  {
   "cell_type": "code",
   "execution_count": 2,
   "metadata": {},
   "outputs": [],
   "source": [
    "f = open(\"our.txt\",\"w\")\n",
    "principal=1000\n",
    "rate=0.05\n",
    "numyears=5\n",
    "year=1\n",
    "while year <=numyears:\n",
    "    principal=principal*(1+rate)\n",
    "    print(year,principal,file=f)\n",
    "    year+=1\n",
    "f.close()\n"
   ]
  },
  {
   "cell_type": "code",
   "execution_count": 6,
   "metadata": {},
   "outputs": [
    {
     "name": "stdout",
     "output_type": "stream",
     "text": [
      "ann\n",
      "['jeff', 'mark', 'ann', 'phil']\n",
      "5\n",
      "['jeff', 'mark', 'sydney', 'ann', 'phil', 'kate']\n"
     ]
    }
   ],
   "source": [
    "names=[\"dave\",\"mark\",\"ann\",\"phil\"]\n",
    "a=names[2]\n",
    "names[0]=\"jeff\"\n",
    "print(a)\n",
    "print(names)\n",
    "names.append(\"kate\")\n",
    "print(len(names))\n",
    "names.insert(2,\"sydney\")\n",
    "print(names)"
   ]
  },
  {
   "cell_type": "code",
   "execution_count": 7,
   "metadata": {},
   "outputs": [
    {
     "name": "stdout",
     "output_type": "stream",
     "text": [
      "2 to the 1 power is 2\n",
      "2 to the 2 power is 4\n",
      "2 to the 3 power is 8\n",
      "2 to the 4 power is 16\n",
      "2 to the 5 power is 32\n",
      "2 to the 6 power is 64\n",
      "2 to the 7 power is 128\n",
      "2 to the 8 power is 256\n",
      "2 to the 9 power is 512\n"
     ]
    }
   ],
   "source": [
    "for i in range(1,10):\n",
    "    print(\"2 to the %d power is %d\" %(i,2**i))"
   ]
  },
  {
   "cell_type": "code",
   "execution_count": 54,
   "metadata": {},
   "outputs": [
    {
     "name": "stdout",
     "output_type": "stream",
     "text": [
      "[Errno 2] No such file or directory: 'file.txt'\n"
     ]
    }
   ],
   "source": [
    "try:\n",
    "    f=open(\"file.txt\",\"r\")\n",
    "except IOError as e:\n",
    "    print(e)"
   ]
  },
  {
   "cell_type": "code",
   "execution_count": 24,
   "metadata": {},
   "outputs": [
    {
     "name": "stdout",
     "output_type": "stream",
     "text": [
      "79.48275862068965 0.0\n",
      "<class 'float'>\n"
     ]
    }
   ],
   "source": [
    "def divide(a,b):\n",
    "    q = a/b\n",
    "    r = a-q*b\n",
    "    return (q,r)\n",
    "a,b = divide(2305,29)\n",
    "print(a,b)"
   ]
  },
  {
   "cell_type": "code",
   "execution_count": 23,
   "metadata": {},
   "outputs": [
    {
     "name": "stdout",
     "output_type": "stream",
     "text": [
      "-0.8488724885405782\n"
     ]
    }
   ],
   "source": [
    "import math\n",
    "a = math.cos(3)+\\\n",
    "    math.sin(3)  #\\表示换行，无实际映像\n",
    "print(a)"
   ]
  },
  {
   "cell_type": "code",
   "execution_count": 27,
   "metadata": {},
   "outputs": [
    {
     "name": "stdout",
     "output_type": "stream",
     "text": [
      "the identity of a is type(a)\n",
      "the identity of a is type(b)\n",
      "a and b have the same type\n"
     ]
    }
   ],
   "source": [
    "def compare(a,b):\n",
    "    print(\"the identity of a is type(a)\")\n",
    "    print(\"the identity of a is type(b)\")\n",
    "    if a is b:\n",
    "        print(\"a and b are the same object\")\n",
    "    if a == b:\n",
    "        print(\"a and b have the same value\")\n",
    "    if(type(a)==type(b)):\n",
    "        print(\"a and b have the same type\")\n",
    "compare(1,5)"
   ]
  },
  {
   "cell_type": "code",
   "execution_count": 28,
   "metadata": {},
   "outputs": [
    {
     "name": "stdout",
     "output_type": "stream",
     "text": [
      "140720200369024 140720200369024\n",
      "140720200369024 140720200366464\n"
     ]
    }
   ],
   "source": [
    "a=100\n",
    "b=a\n",
    "print(id(a),id(b))\n",
    "b=20\n",
    "print(id(a),id(b))"
   ]
  },
  {
   "cell_type": "code",
   "execution_count": 32,
   "metadata": {},
   "outputs": [
    {
     "name": "stdout",
     "output_type": "stream",
     "text": [
      "[1, 2, [3, 4]]\n",
      "[1, 2, [3, 4], 100]\n",
      "[1, 2, [3, 4]]\n",
      "[-100, 2, [3, 4], 100]\n",
      "[1, 2, [-100, 4]]\n",
      "[-100, 2, [-100, 4], 100]\n"
     ]
    }
   ],
   "source": [
    "#浅拷贝\n",
    "b=[1,2,[3,4]]\n",
    "a=b[:]\n",
    "a.append(100)\n",
    "print(b)\n",
    "print(a)\n",
    "a[0]=-100\n",
    "print(b)\n",
    "print(a)\n",
    "a[2][0]=-100\n",
    "print(b)\n",
    "print(a)"
   ]
  },
  {
   "cell_type": "code",
   "execution_count": 33,
   "metadata": {},
   "outputs": [
    {
     "name": "stdout",
     "output_type": "stream",
     "text": [
      "[1, 2, [3, 4]]\n",
      "[1, 2, [3, 4], 100]\n",
      "[1, 2, [3, 4]]\n",
      "[-100, 2, [3, 4], 100]\n",
      "[1, 2, [3, 4]]\n",
      "[-100, 2, [-100, 4], 100]\n"
     ]
    }
   ],
   "source": [
    "#深拷贝\n",
    "import copy\n",
    "b=[1,2,[3,4]]\n",
    "a=copy.deepcopy(b)\n",
    "a.append(100)\n",
    "print(b)\n",
    "print(a)\n",
    "a[0]=-100\n",
    "print(b)\n",
    "print(a)\n",
    "a[2][0]=-100\n",
    "print(b)\n",
    "print(a)"
   ]
  },
  {
   "cell_type": "code",
   "execution_count": 16,
   "metadata": {},
   "outputs": [
    {
     "name": "stdout",
     "output_type": "stream",
     "text": [
      "564\n",
      "[21, 185, 188, 564]\n",
      "0\n"
     ]
    }
   ],
   "source": [
    "s = [188,21,564,185]\n",
    "print(max(s))\n",
    "s.sort()\n",
    "print(s)\n",
    "print(s.index(21))"
   ]
  },
  {
   "cell_type": "code",
   "execution_count": 32,
   "metadata": {},
   "outputs": [
    {
     "name": "stdout",
     "output_type": "stream",
     "text": [
      "5\n",
      "444345anc\n",
      "12345ANC\n",
      "12345anc\n",
      "['12', '45anc']\n"
     ]
    }
   ],
   "source": [
    "s=\"12345anc\"\n",
    "print(s.find('a'))\n",
    "print(s.replace(\"123\",\"4443\"))\n",
    "print(s.upper())\n",
    "print(s)\n",
    "a=s.split('3')\n",
    "print(a)"
   ]
  },
  {
   "cell_type": "code",
   "execution_count": 37,
   "metadata": {},
   "outputs": [
    {
     "name": "stdout",
     "output_type": "stream",
     "text": [
      "dict_items([(1, 'zhang'), (2, 'qian')])\n"
     ]
    }
   ],
   "source": [
    "d={1:\"zhang\",2:\"qian\"}\n",
    "print(d.items())"
   ]
  },
  {
   "cell_type": "code",
   "execution_count": 50,
   "metadata": {},
   "outputs": [
    {
     "name": "stdout",
     "output_type": "stream",
     "text": [
      "3+4 is 7\n",
      "3+4 is 7\n"
     ]
    }
   ],
   "source": [
    "def foo(x,y):\n",
    "    print(\"%s+%s is %s\"%(str(x),str(y),str(x+y)))\n",
    "#指定一个新的变量\n",
    "bar=foo\n",
    "bar(3,4)\n",
    "#放入一个字典中\n",
    "d={}\n",
    "d['callback']=foo\n",
    "d['callback'](3,4)"
   ]
  },
  {
   "cell_type": "code",
   "execution_count": 67,
   "metadata": {},
   "outputs": [
    {
     "name": "stdout",
     "output_type": "stream",
     "text": [
      "<class 'str'>\n",
      "<class 'list'>\n"
     ]
    }
   ],
   "source": [
    "a=[2,3,4,5]\n",
    "s=repr(a)\n",
    "print(type(s))\n",
    "b=eval(s)\n",
    "print(type(b))"
   ]
  },
  {
   "cell_type": "code",
   "execution_count": 1,
   "metadata": {},
   "outputs": [
    {
     "name": "stdout",
     "output_type": "stream",
     "text": [
      "(0.0, 1.234)\n",
      "1.0\n"
     ]
    }
   ],
   "source": [
    "a=1.234\n",
    "b=2.456\n",
    "c=b//a\n",
    "print(divmod(a,b))\n",
    "print(c)"
   ]
  },
  {
   "cell_type": "code",
   "execution_count": 10,
   "metadata": {},
   "outputs": [
    {
     "name": "stdout",
     "output_type": "stream",
     "text": [
      "[[1, 2, 3, 4], [1, 2, 3, 4], [1, 2, 3, 4]]\n",
      "True\n"
     ]
    }
   ],
   "source": [
    "s=[1,2,3,4]\n",
    "a=[s]\n",
    "print(a*3)\n",
    "print(1 in s)"
   ]
  },
  {
   "cell_type": "code",
   "execution_count": 11,
   "metadata": {},
   "outputs": [
    {
     "name": "stdout",
     "output_type": "stream",
     "text": [
      "[1, 2, 3, 4]\n",
      "[]\n",
      "[]\n"
     ]
    }
   ],
   "source": [
    "s=[1,2,3,4]\n",
    "print(s[-100:200])\n",
    "print(s[-100:-200])\n",
    "print(s[200:300])"
   ]
  },
  {
   "cell_type": "code",
   "execution_count": 21,
   "metadata": {},
   "outputs": [
    {
     "name": "stdout",
     "output_type": "stream",
     "text": [
      "a is 42\n",
      "        42 13.147254\n",
      "+000000042  1.314725E+01\n",
      "13          1.57 world\n",
      "hell  world\n",
      "13.147\n",
      "e=1527357826386279\n"
     ]
    }
   ],
   "source": [
    "a=42\n",
    "b=13.1472537\n",
    "c=\"hello\"\n",
    "d={'x':13,'y':1.57392,'z':'world'}\n",
    "e=1527357826386279\n",
    "\n",
    "print(\"a is %d\"%a)\n",
    "print(\"%10d %f\"%(a,b))\n",
    "print(\"%+010d  %E\"%(a,b))\n",
    "print(\"%-10d  %0.3g %s\"%(d['x'],d['y'],d['z']))\n",
    "print(\"%0.4s  %s\"%(c,d['z']))\n",
    "print(\"%*.*f\"%(5,3,b))\n",
    "print(\"e=%i\"%e)"
   ]
  },
  {
   "cell_type": "code",
   "execution_count": 22,
   "metadata": {},
   "outputs": [
    {
     "name": "stdout",
     "output_type": "stream",
     "text": [
      "15\n"
     ]
    }
   ],
   "source": [
    "x=10\n",
    "y=5\n",
    "c=x^y\n",
    "print(c)"
   ]
  },
  {
   "cell_type": "code",
   "execution_count": 23,
   "metadata": {},
   "outputs": [
    {
     "name": "stdout",
     "output_type": "stream",
     "text": [
      "Douglas Adams\n"
     ]
    }
   ],
   "source": [
    "c=\"%s %s\"\n",
    "c%=(\"Douglas\",\"Adams\")\n",
    "print(c)"
   ]
  },
  {
   "cell_type": "code",
   "execution_count": 24,
   "metadata": {},
   "outputs": [
    {
     "name": "stdout",
     "output_type": "stream",
     "text": [
      "0o1750\n"
     ]
    }
   ],
   "source": [
    "x=1000\n",
    "print(oct(x))"
   ]
  },
  {
   "cell_type": "code",
   "execution_count": null,
   "metadata": {},
   "outputs": [],
   "source": []
  }
 ],
 "metadata": {
  "kernelspec": {
   "display_name": "Python 3",
   "language": "python",
   "name": "python3"
  },
  "language_info": {
   "codemirror_mode": {
    "name": "ipython",
    "version": 3
   },
   "file_extension": ".py",
   "mimetype": "text/x-python",
   "name": "python",
   "nbconvert_exporter": "python",
   "pygments_lexer": "ipython3",
   "version": "3.8.3"
  }
 },
 "nbformat": 4,
 "nbformat_minor": 4
}
