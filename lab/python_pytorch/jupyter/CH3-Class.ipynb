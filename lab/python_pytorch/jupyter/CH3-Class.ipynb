{
 "cells": [
  {
   "cell_type": "markdown",
   "metadata": {},
   "source": [
    "# Class"
   ]
  },
  {
   "cell_type": "markdown",
   "metadata": {},
   "source": [
    "### 类的定义\n"
   ]
  },
  {
   "cell_type": "markdown",
   "metadata": {},
   "source": [
    "门\n",
    "\n",
    "属性：宽、高、状态（开关）\n"
   ]
  },
  {
   "cell_type": "code",
   "execution_count": null,
   "metadata": {},
   "outputs": [],
   "source": [
    "class DoorClass():\n",
    "    pass               # 空语句"
   ]
  },
  {
   "cell_type": "code",
   "execution_count": null,
   "metadata": {},
   "outputs": [],
   "source": [
    "h324door=DoorClass()\n",
    "h324door.weight=1.0\n",
    "h324door.height=2.0\n",
    "h324door.isopen=False"
   ]
  },
  {
   "cell_type": "markdown",
   "metadata": {},
   "source": [
    "门\n",
    "\n",
    "属性：宽、高、状态（开关）\n",
    "\n",
    "方法：开门、关门"
   ]
  },
  {
   "cell_type": "code",
   "execution_count": null,
   "metadata": {},
   "outputs": [],
   "source": [
    "\n",
    "class DoorClass():\n",
    "    def open_door(self):\n",
    "        self.isopen=True\n",
    "        \n",
    "    def close_door(self):\n",
    "        self.isopen=False\n",
    "       \n",
    "h324door=DoorClass()\n",
    "h324door.weight=1.0\n",
    "h324door.height=2.0\n",
    "h324door.close_door()\n",
    "\n",
    "print(h324door)"
   ]
  },
  {
   "cell_type": "markdown",
   "metadata": {},
   "source": [
    "### 类的初始化\n"
   ]
  },
  {
   "cell_type": "code",
   "execution_count": null,
   "metadata": {},
   "outputs": [],
   "source": [
    "\n",
    "class DoorClass():\n",
    "    def __init__(self):\n",
    "        self.isopen=False\n",
    "        self.weight=1.0\n",
    "        self.height=2.0\n",
    "        \n",
    "    def print(self): # 输出类属性的值\n",
    "        print(\"Weight={} Height={} isopen={}\".format(self.weight, self.height, self.isopen) )\n",
    "        \n",
    "    def open_door(self):\n",
    "        self.isopen=True\n",
    "        \n",
    "    def close_door(self):\n",
    "        self.isopen=False\n",
    "        \n",
    "    def area(self):\n",
    "        return self.weight*self.height\n",
    "    \n",
    "    def open_status(self):\n",
    "        return self.isopen\n",
    "    \n",
    "\n",
    "h324door=DoorClass()  \n",
    "print(h324door.open_status())\n",
    "print(h324door.area())\n",
    "h324door.print()"
   ]
  },
  {
   "cell_type": "markdown",
   "metadata": {},
   "source": [
    "另一个实例"
   ]
  },
  {
   "cell_type": "code",
   "execution_count": null,
   "metadata": {},
   "outputs": [],
   "source": [
    "h410door=DoorClass()\n",
    "h410door.weight=1.2\n",
    "print(h410door.area())\n",
    "h410door.print()"
   ]
  },
  {
   "cell_type": "markdown",
   "metadata": {},
   "source": [
    "### 类的继承\n"
   ]
  },
  {
   "cell_type": "code",
   "execution_count": null,
   "metadata": {},
   "outputs": [],
   "source": [
    "import datetime\n",
    "\n",
    "class AssetDoor(DoorClass):\n",
    "    def years_used(self):\n",
    "        return datetime.datetime.now().year-self.year\n",
    "    \n",
    "    def current_price(self):\n",
    "        return self.price*(0.95**self.years_used())\n",
    "\n",
    "adoor=AssetDoor()\n",
    "adoor.year=2017\n",
    "adoor.price=1200\n",
    "print (adoor.years_used())\n",
    "print (adoor.current_price())\n",
    "adoor.weight=1.2\n",
    "print (adoor.area())"
   ]
  },
  {
   "cell_type": "markdown",
   "metadata": {},
   "source": [
    "子类有初始化函数的时候，不再调用父类的初始化函数"
   ]
  },
  {
   "cell_type": "code",
   "execution_count": null,
   "metadata": {},
   "outputs": [],
   "source": [
    "import datetime\n",
    "\n",
    "class AssetDoor(DoorClass):\n",
    "    def __init__(self):\n",
    "        self.year=2019\n",
    "        self.price=1200\n",
    "        \n",
    "    def years_used(self):\n",
    "        return datetime.datetime.now().year-self.year\n",
    "    \n",
    "    def current_price(self):\n",
    "        return self.price*(0.95**self.years_used())\n",
    "\n",
    "adoor=AssetDoor()\n",
    "print (adoor.years_used())\n",
    "print (adoor.current_price())\n",
    "adoor.weight=1.2\n",
    "print (adoor.area())"
   ]
  },
  {
   "cell_type": "markdown",
   "metadata": {},
   "source": [
    "需要明确调用父类的函数 super()"
   ]
  },
  {
   "cell_type": "code",
   "execution_count": null,
   "metadata": {},
   "outputs": [],
   "source": [
    "import datetime\n",
    "\n",
    "class AssetDoor(DoorClass):\n",
    "    def __init__(self):\n",
    "        self.year=2019\n",
    "        self.price=1200\n",
    "        super().__init__()\n",
    "        \n",
    "    def print(self): # 输出类属性的值\n",
    "        print(\"Create year:\", self.year, \" Price:\", self.price)\n",
    "        super().print()\n",
    "        \n",
    "    def years_used(self):\n",
    "        return datetime.datetime.now().year-self.year\n",
    "    \n",
    "    def current_price(self):\n",
    "        return self.price*(0.95**self.years_used())\n",
    "\n",
    "adoor=AssetDoor()\n",
    "print (adoor.years_used())\n",
    "print (adoor.current_price())\n",
    "adoor.weight=1.2\n",
    "print (adoor.area())\n",
    "adoor.print()"
   ]
  },
  {
   "cell_type": "markdown",
   "metadata": {},
   "source": [
    "### 类的私有属性"
   ]
  },
  {
   "cell_type": "code",
   "execution_count": null,
   "metadata": {},
   "outputs": [],
   "source": [
    "class AutoDoor():\n",
    "    def __init__(self):\n",
    "        self.isopen=False\n",
    "        self.weight=1.0\n",
    "        self.height=2.0\n",
    "        \n",
    "    def plcoperate(self,str):\n",
    "        print('PLC work:',str)\n",
    "    \n",
    "    def open_door(self):\n",
    "        if not self.isopen:\n",
    "            self.plcoperate('OPEN')\n",
    "            self.isopen=True\n",
    "        \n",
    "    def close_door(self):\n",
    "        if self.isopen:\n",
    "            self.plcoperate('CLOSE')\n",
    "            self.isopen=False\n",
    "            \n",
    "    def print(self): # 输出类属性的值\n",
    "        print(\"Weight={} Height={} isopen={}\".format(self.weight, self.height, self.isopen) )\n",
    "            \n",
    "xdoor=AutoDoor()\n",
    "xdoor.isopen=True\n",
    "xdoor.open_door()"
   ]
  },
  {
   "cell_type": "markdown",
   "metadata": {},
   "source": [
    "私有定义属性，实例和子类都不能访问"
   ]
  },
  {
   "cell_type": "code",
   "execution_count": null,
   "metadata": {},
   "outputs": [],
   "source": [
    "class AutoDoor():\n",
    "    def __init__(self):\n",
    "        self.__isopen=False\n",
    "        self.weight=1.0\n",
    "        self.height=2.0\n",
    "        \n",
    "    def __plcoperate(self,str):\n",
    "        print('PLC work:',str)\n",
    "    \n",
    "    def open_door(self):\n",
    "        if not self.__isopen:\n",
    "            self.__plcoperate('OPEN')\n",
    "            self.__isopen=True\n",
    "        \n",
    "    def close_door(self):\n",
    "        if self.__isopen:\n",
    "            self.__plcoperate('CLOSE')\n",
    "            self.__isopen=False\n",
    "            \n",
    "    def print(self):\n",
    "        print(\"Weight={} Height={} __isopen={}\".format(self.weight, self.height, self.__isopen) )\n",
    "            \n",
    "xdoor=AutoDoor()\n",
    "xdoor.print()\n",
    "print(xdoor.__isopen)\n",
    "\n"
   ]
  },
  {
   "cell_type": "code",
   "execution_count": null,
   "metadata": {},
   "outputs": [],
   "source": [
    "class AutoDoor():\n",
    "    def __init__(self):\n",
    "        self.__isopen=False\n",
    "        self.weight=1.0\n",
    "        self.height=2.0\n",
    "        \n",
    "    def __plcoperate(self,str):\n",
    "        print('PLC work:',str)\n",
    "    \n",
    "    def open_door(self):\n",
    "        if not self.__isopen:\n",
    "            self.__plcoperate('OPEN')\n",
    "            self.__isopen=True\n",
    "        \n",
    "    def close_door(self):\n",
    "        if self.__isopen:\n",
    "            self.__plcoperate('CLOSE')\n",
    "            self.__isopen=False\n",
    "            \n",
    "    def print(self):\n",
    "        print(\"Weight={} Height={} __isopen={}\".format(self.weight, self.height, self.__isopen) )\n",
    "            \n",
    "xdoor=AutoDoor()\n",
    "xdoor.print()\n",
    "xdoor.__isopen=True\n",
    "print(xdoor.__isopen)\n",
    "xdoor.print()\n",
    "xdoor.open_door()\n",
    "xdoor.print()"
   ]
  },
  {
   "cell_type": "code",
   "execution_count": null,
   "metadata": {},
   "outputs": [],
   "source": [
    "class SubAutoDoor(AutoDoor):\n",
    "    def test(self):\n",
    "        super().__isopen=True\n",
    "    \n",
    "newdoor= SubAutoDoor()\n",
    "newdoor.print()\n",
    "newdoor.test()"
   ]
  }
 ],
 "metadata": {
  "kernelspec": {
   "display_name": "Python 3",
   "language": "python",
   "name": "python3"
  },
  "language_info": {
   "codemirror_mode": {
    "name": "ipython",
    "version": 3
   },
   "file_extension": ".py",
   "mimetype": "text/x-python",
   "name": "python",
   "nbconvert_exporter": "python",
   "pygments_lexer": "ipython3",
   "version": "3.8.5"
  }
 },
 "nbformat": 4,
 "nbformat_minor": 2
}
